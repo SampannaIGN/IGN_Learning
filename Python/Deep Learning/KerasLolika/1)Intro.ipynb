{
 "cells": [
  {
   "cell_type": "code",
   "execution_count": 8,
   "id": "c55ea735",
   "metadata": {},
   "outputs": [
    {
     "name": "stdout",
     "output_type": "stream",
     "text": [
      "Epoch 1/20\n",
      "1/1 - 0s - loss: 0.8081 - accuracy: 0.0000e+00 - 186ms/epoch - 186ms/step\n",
      "Epoch 2/20\n",
      "1/1 - 0s - loss: 0.7478 - accuracy: 0.4444 - 3ms/epoch - 3ms/step\n",
      "Epoch 3/20\n",
      "1/1 - 0s - loss: 0.6933 - accuracy: 0.4444 - 2ms/epoch - 2ms/step\n",
      "Epoch 4/20\n",
      "1/1 - 0s - loss: 0.6435 - accuracy: 1.0000 - 2ms/epoch - 2ms/step\n",
      "Epoch 5/20\n",
      "1/1 - 0s - loss: 0.5974 - accuracy: 1.0000 - 3ms/epoch - 3ms/step\n",
      "Epoch 6/20\n",
      "1/1 - 0s - loss: 0.5565 - accuracy: 1.0000 - 3ms/epoch - 3ms/step\n",
      "Epoch 7/20\n",
      "1/1 - 0s - loss: 0.5185 - accuracy: 1.0000 - 3ms/epoch - 3ms/step\n",
      "Epoch 8/20\n",
      "1/1 - 0s - loss: 0.4831 - accuracy: 1.0000 - 4ms/epoch - 4ms/step\n",
      "Epoch 9/20\n",
      "1/1 - 0s - loss: 0.4504 - accuracy: 1.0000 - 3ms/epoch - 3ms/step\n",
      "Epoch 10/20\n",
      "1/1 - 0s - loss: 0.4203 - accuracy: 1.0000 - 3ms/epoch - 3ms/step\n",
      "Epoch 11/20\n",
      "1/1 - 0s - loss: 0.3942 - accuracy: 1.0000 - 3ms/epoch - 3ms/step\n",
      "Epoch 12/20\n",
      "1/1 - 0s - loss: 0.3703 - accuracy: 1.0000 - 4ms/epoch - 4ms/step\n",
      "Epoch 13/20\n",
      "1/1 - 0s - loss: 0.3508 - accuracy: 1.0000 - 2ms/epoch - 2ms/step\n",
      "Epoch 14/20\n",
      "1/1 - 0s - loss: 0.3333 - accuracy: 1.0000 - 2ms/epoch - 2ms/step\n",
      "Epoch 15/20\n",
      "1/1 - 0s - loss: 0.3171 - accuracy: 1.0000 - 3ms/epoch - 3ms/step\n",
      "Epoch 16/20\n",
      "1/1 - 0s - loss: 0.3020 - accuracy: 1.0000 - 3ms/epoch - 3ms/step\n",
      "Epoch 17/20\n",
      "1/1 - 0s - loss: 0.2877 - accuracy: 1.0000 - 3ms/epoch - 3ms/step\n",
      "Epoch 18/20\n",
      "1/1 - 0s - loss: 0.2744 - accuracy: 1.0000 - 2ms/epoch - 2ms/step\n",
      "Epoch 19/20\n",
      "1/1 - 0s - loss: 0.2618 - accuracy: 1.0000 - 3ms/epoch - 3ms/step\n",
      "Epoch 20/20\n",
      "1/1 - 0s - loss: 0.2504 - accuracy: 1.0000 - 3ms/epoch - 3ms/step\n"
     ]
    },
    {
     "data": {
      "text/plain": [
       "<keras.callbacks.History at 0x7fcfba7027f0>"
      ]
     },
     "execution_count": 8,
     "metadata": {},
     "output_type": "execute_result"
    }
   ],
   "source": [
    "import keras\n",
    "import numpy as np\n",
    "from keras import backend as K\n",
    "from keras.models import Sequential\n",
    "from keras.layers import Dense,Activation\n",
    "from keras.optimizers import Adam\n",
    "from keras.metrics import categorical_crossentropy\n",
    "\n",
    "model = Sequential([Dense(100,input_shape=(1,),activation='relu'),\n",
    "Dense(32,activation='relu'),\n",
    "Dense(2,activation='softmax')]\n",
    ")\n",
    "scaled_train_samples = np.array([5,10,15,20,-5,-9,-6,12,-7])\n",
    "train_labels = np.array([1,1,1,1,0,0,0,1,0])\n",
    "model.compile(Adam(lr=.0001), loss='sparse_categorical_crossentropy',metrics=['accuracy'])\n",
    "model.fit(scaled_train_samples, train_labels, batch_size = 10, epochs=20, shuffle=True,verbose = 2)"
   ]
  },
  {
   "cell_type": "code",
   "execution_count": null,
   "id": "bce8a596",
   "metadata": {},
   "outputs": [],
   "source": []
  },
  {
   "cell_type": "code",
   "execution_count": null,
   "id": "a0b04170",
   "metadata": {},
   "outputs": [],
   "source": []
  },
  {
   "cell_type": "code",
   "execution_count": null,
   "id": "a2c3c209",
   "metadata": {},
   "outputs": [],
   "source": []
  }
 ],
 "metadata": {
  "kernelspec": {
   "display_name": "Python 3 (ipykernel)",
   "language": "python",
   "name": "python3"
  },
  "language_info": {
   "codemirror_mode": {
    "name": "ipython",
    "version": 3
   },
   "file_extension": ".py",
   "mimetype": "text/x-python",
   "name": "python",
   "nbconvert_exporter": "python",
   "pygments_lexer": "ipython3",
   "version": "3.8.10 (default, Mar 13 2023, 10:26:41) \n[GCC 9.4.0]"
  },
  "vscode": {
   "interpreter": {
    "hash": "916dbcbb3f70747c44a77c7bcd40155683ae19c65e1c03b4aa3499c5328201f1"
   }
  }
 },
 "nbformat": 4,
 "nbformat_minor": 5
}
