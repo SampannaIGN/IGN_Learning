{
 "cells": [
  {
   "cell_type": "markdown",
   "id": "3b78977c",
   "metadata": {},
   "source": [
    "# Introduction"
   ]
  },
  {
   "cell_type": "code",
   "execution_count": 2,
   "id": "5a276415",
   "metadata": {},
   "outputs": [],
   "source": [
    "import numpy as np"
   ]
  },
  {
   "cell_type": "markdown",
   "id": "5ef2294e",
   "metadata": {},
   "source": [
    "**Creating 1D array and trying out different functions**"
   ]
  },
  {
   "cell_type": "code",
   "execution_count": 11,
   "id": "da95dcd2",
   "metadata": {},
   "outputs": [
    {
     "name": "stdout",
     "output_type": "stream",
     "text": [
      "5\n"
     ]
    }
   ],
   "source": [
    "arr = np.array([3,4,6,7,3,9,8,4,1],np.int64)"
   ]
  },
  {
   "cell_type": "code",
   "execution_count": 8,
   "id": "b7f76b49",
   "metadata": {},
   "outputs": [
    {
     "data": {
      "text/plain": [
       "3"
      ]
     },
     "execution_count": 8,
     "metadata": {},
     "output_type": "execute_result"
    }
   ],
   "source": [
    "arr[0]"
   ]
  },
  {
   "cell_type": "code",
   "execution_count": 9,
   "id": "ee018943",
   "metadata": {},
   "outputs": [
    {
     "data": {
      "text/plain": [
       "9"
      ]
     },
     "execution_count": 9,
     "metadata": {},
     "output_type": "execute_result"
    }
   ],
   "source": [
    "arr[3]"
   ]
  },
  {
   "cell_type": "code",
   "execution_count": 14,
   "id": "b81db7d9",
   "metadata": {},
   "outputs": [
    {
     "data": {
      "text/plain": [
       "(5,)"
      ]
     },
     "execution_count": 14,
     "metadata": {},
     "output_type": "execute_result"
    }
   ],
   "source": [
    "arr.shape"
   ]
  },
  {
   "cell_type": "code",
   "execution_count": 18,
   "id": "246bb1ba",
   "metadata": {},
   "outputs": [
    {
     "data": {
      "text/plain": [
       "5"
      ]
     },
     "execution_count": 18,
     "metadata": {},
     "output_type": "execute_result"
    }
   ],
   "source": [
    "arr.size"
   ]
  },
  {
   "cell_type": "code",
   "execution_count": 26,
   "id": "2cd6941a",
   "metadata": {},
   "outputs": [
    {
     "name": "stdout",
     "output_type": "stream",
     "text": [
      "[ 0  1  2  3  4  5  6  7  8  9 10 11 12 13 14]\n"
     ]
    }
   ],
   "source": [
    "arr = np.arange(15)\n",
    "print(arr)"
   ]
  },
  {
   "cell_type": "code",
   "execution_count": 8,
   "id": "444dc6f7",
   "metadata": {},
   "outputs": [
    {
     "name": "stdout",
     "output_type": "stream",
     "text": [
      "[1.         2.33333333 3.66666667 5.        ]\n",
      "3\n"
     ]
    }
   ],
   "source": [
    "arr = np.linspace(1,5,4)#4 elements equally spaced starting from 1 and ending with 5\n",
    "print(arr)"
   ]
  },
  {
   "cell_type": "code",
   "execution_count": 5,
   "id": "e23bf74f",
   "metadata": {},
   "outputs": [
    {
     "name": "stdout",
     "output_type": "stream",
     "text": [
      "Before = [ 0  1  2  3  4  5  6  7  8  9 10 11 12 13 14 15 16 17 18 19]\n",
      "After reshape = [[ 0  1  2  3  4]\n",
      " [ 5  6  7  8  9]\n",
      " [10 11 12 13 14]\n",
      " [15 16 17 18 19]]\n",
      "After ravel = [ 0  1  2  3  4  5  6  7  8  9 10 11 12 13 14 15 16 17 18 19]\n"
     ]
    }
   ],
   "source": [
    "arr = np.arange(20)\n",
    "print(f\"Before = {arr}\")\n",
    "arr = arr.reshape(4,5)\n",
    "print(f\"After reshape = {arr}\")\n",
    "arr = arr.ravel()\n",
    "print(f\"After ravel = {arr}\")"
   ]
  },
  {
   "cell_type": "markdown",
   "id": "5a96bf0f",
   "metadata": {},
   "source": [
    "**Creating 2D array and trying out different functions**"
   ]
  },
  {
   "cell_type": "code",
   "execution_count": 48,
   "id": "10037597",
   "metadata": {},
   "outputs": [
    {
     "name": "stdout",
     "output_type": "stream",
     "text": [
      "[[1 2 3]\n",
      " [4 5 6]\n",
      " [7 8 9]]\n",
      "\n",
      "[[1 4 7]\n",
      " [2 5 8]\n",
      " [3 6 9]]\n"
     ]
    }
   ],
   "source": [
    "arr2D = np.array([[1,2,3],[4,5,6],[7,8,9]],np.int64)\n",
    "print(arr2D)\n",
    "arr2DTranspose = arr2D.T\n",
    "print(f\"\\n{arr2DTranspose}\")"
   ]
  },
  {
   "cell_type": "code",
   "execution_count": 17,
   "id": "9888345a",
   "metadata": {},
   "outputs": [
    {
     "name": "stdout",
     "output_type": "stream",
     "text": [
      "16\n",
      "1\n",
      "3\n",
      "[3 2 0 1]\n"
     ]
    }
   ],
   "source": [
    "arr = np.array([7,8,6,3],np.int32)#try np.int64\n",
    "maxIndex = arr.argmax()#gives index of max value\n",
    "minIndex = arr.argmin()#gives index of min value\n",
    "sortIndexList = arr.argsort()#returns list index for sorted order\n",
    "print(arr.nbytes)#gives number of bytes for arr 4*5=20 in this case\n",
    "print(maxIndex)\n",
    "print(minIndex)\n",
    "print(sortIndexList)"
   ]
  },
  {
   "cell_type": "code",
   "execution_count": 24,
   "id": "0f36599b",
   "metadata": {},
   "outputs": [
    {
     "name": "stdout",
     "output_type": "stream",
     "text": [
      "4\n",
      "1\n",
      "[[1 2 0]\n",
      " [0 2 1]\n",
      " [1 0 2]]\n",
      "[2 1 2]\n",
      "[0 1 2]\n"
     ]
    }
   ],
   "source": [
    "arr2D = np.array([[3,1,2],\n",
    "                  [1,10,2],\n",
    "                  [5,2,8]],np.int32)\n",
    "maxIndex = arr2D.argmax()\n",
    "minIndex = arr2D.argmin()\n",
    "sortedIndexList = arr2D.argsort()#returns list index for sorted order\n",
    "verticalAxis = arr2D.argmax(axis=0)#returns max value index for vertical axes\n",
    "horizontalAxis = arr2D.argmax(axis=1)#returns max value index for \n",
    "print(maxIndex)\n",
    "print(minIndex)\n",
    "print(sortedIndexList)\n",
    "print(verticalAxis)\n",
    "print(horizontalAxis)"
   ]
  },
  {
   "cell_type": "code",
   "execution_count": 40,
   "id": "e9cb9672",
   "metadata": {},
   "outputs": [
    {
     "name": "stdout",
     "output_type": "stream",
     "text": [
      "[[12 15  5]\n",
      " [ 3 12 11]\n",
      " [ 5  7 11]]\n",
      "\n",
      "[[-2 -1  1]\n",
      " [-3  0 -1]\n",
      " [ 1 -3 -7]]\n",
      "\n",
      "[[35 56  6]\n",
      " [ 0 36 30]\n",
      " [ 6 10 18]]\n",
      "\n",
      "[[2.23606798 2.64575131 1.73205081]\n",
      " [0.         2.44948974 2.23606798]\n",
      " [1.73205081 1.41421356 1.41421356]]\n",
      "\n",
      "(array([0, 0, 1, 1]), array([0, 1, 1, 2]))\n",
      "\n",
      "(array([0, 0, 0, 1, 1, 2, 2, 2]), array([0, 1, 2, 1, 2, 0, 1, 2]))\n",
      "33\n",
      "\n",
      "7\n",
      "\n",
      "0\n",
      "\n"
     ]
    }
   ],
   "source": [
    "arr1 = np.array([[5,7,3],\n",
    "                [0,6,5],\n",
    "                [3,2,2]])\n",
    "\n",
    "arr2 = np.array([[7,8,2],\n",
    "                [3,6,6],\n",
    "                [2,5,9]])\n",
    "\n",
    "sum = arr1+arr2\n",
    "diff = arr1-arr2\n",
    "prod = arr1*arr2\n",
    "\n",
    "print(sum,end=\"\\n\\n\")\n",
    "print(diff,end=\"\\n\\n\")\n",
    "print(prod,end=\"\\n\\n\")\n",
    "print(np.sqrt(arr1),end=\"\\n\\n\")    #Gives square root of all elements of arr1\n",
    "print(np.where(arr1>3),end=\"\\n\\n\") #Gives index of all elements greater than 3\n",
    "print(np.nonzero(arr1))            #Returns all the index where elements are not zero\n",
    "\n",
    "print(arr1.sum(),end=\"\\n\\n\")       #Gives sum of all elements of arr1 \n",
    "print(arr1.max(),end=\"\\n\\n\")       #Gives max of all the elements of arr1\n",
    "print(arr1.min(),end=\"\\n\\n\")       #Gives min of all the elements of arr1\n"
   ]
  },
  {
   "cell_type": "code",
   "execution_count": 7,
   "id": "a47204ef",
   "metadata": {},
   "outputs": [
    {
     "name": "stdout",
     "output_type": "stream",
     "text": [
      "[[1 2 3]\n",
      " [4 5 6]\n",
      " [7 8 9]]\n",
      "\n",
      "<numpy.flatiter object at 0x1a94180>\n",
      "1 2 3 4 5 6 7 8 9 "
     ]
    }
   ],
   "source": [
    "arr2D = np.array([[1,2,3],[4,5,6],[7,8,9]],np.int64)\n",
    "print(arr2D,end=\"\\n\\n\")\n",
    "\n",
    "arr2DFlat = arr2D.flat  \n",
    "for item in arr2DFlat:\n",
    "    print(item,end=\" \")"
   ]
  },
  {
   "cell_type": "code",
   "execution_count": 13,
   "id": "c859c823",
   "metadata": {},
   "outputs": [
    {
     "data": {
      "text/plain": [
       "(3, 3)"
      ]
     },
     "execution_count": 13,
     "metadata": {},
     "output_type": "execute_result"
    }
   ],
   "source": [
    "arr2D.shape"
   ]
  },
  {
   "cell_type": "code",
   "execution_count": 17,
   "id": "28646472",
   "metadata": {},
   "outputs": [
    {
     "name": "stdout",
     "output_type": "stream",
     "text": [
      "[[ 1  2  3]\n",
      " [ 4  5  6]\n",
      " [ 7  8 99]]\n"
     ]
    }
   ],
   "source": [
    "arr2D[2,2] = 99\n",
    "print(arr2D)"
   ]
  },
  {
   "cell_type": "code",
   "execution_count": 45,
   "id": "a0fd06d4",
   "metadata": {},
   "outputs": [
    {
     "name": "stdout",
     "output_type": "stream",
     "text": [
      "[12 15 18]\n",
      "[ 6 15 24]\n"
     ]
    }
   ],
   "source": [
    "arr2D = np.array([[1,2,3],[4,5,6],[7,8,9]],np.int64)\n",
    "colSum = arr2D.sum(axis = 0)\n",
    "rowSum = arr2D.sum(axis = 1)\n",
    "print(colSum)\n",
    "print(rowSum)"
   ]
  },
  {
   "cell_type": "code",
   "execution_count": 19,
   "id": "f1d391c0",
   "metadata": {},
   "outputs": [
    {
     "data": {
      "text/plain": [
       "9"
      ]
     },
     "execution_count": 19,
     "metadata": {},
     "output_type": "execute_result"
    }
   ],
   "source": [
    "arr2D.size"
   ]
  },
  {
   "cell_type": "code",
   "execution_count": 20,
   "id": "4725fd7e",
   "metadata": {},
   "outputs": [
    {
     "data": {
      "text/plain": [
       "dtype('int64')"
      ]
     },
     "execution_count": 20,
     "metadata": {},
     "output_type": "execute_result"
    }
   ],
   "source": [
    "arr2D.dtype"
   ]
  },
  {
   "cell_type": "code",
   "execution_count": 59,
   "id": "805c59b4",
   "metadata": {},
   "outputs": [
    {
     "name": "stdout",
     "output_type": "stream",
     "text": [
      "[[1. 0. 0. 0. 0. 0. 0. 0. 0. 0.]\n",
      " [0. 1. 0. 0. 0. 0. 0. 0. 0. 0.]\n",
      " [0. 0. 1. 0. 0. 0. 0. 0. 0. 0.]\n",
      " [0. 0. 0. 1. 0. 0. 0. 0. 0. 0.]\n",
      " [0. 0. 0. 0. 1. 0. 0. 0. 0. 0.]\n",
      " [0. 0. 0. 0. 0. 1. 0. 0. 0. 0.]\n",
      " [0. 0. 0. 0. 0. 0. 1. 0. 0. 0.]\n",
      " [0. 0. 0. 0. 0. 0. 0. 1. 0. 0.]\n",
      " [0. 0. 0. 0. 0. 0. 0. 0. 1. 0.]\n",
      " [0. 0. 0. 0. 0. 0. 0. 0. 0. 1.]]\n",
      "2\n",
      "1\n"
     ]
    }
   ],
   "source": [
    "arr2D = np.identity(10)#gives an identity matrix of 10X10\n",
    "print(arr2D)\n",
    "print(arr2D.ndim)#prints the dimension of the array\n",
    "print(arr.ndim)#prints the dimension of the array"
   ]
  },
  {
   "cell_type": "code",
   "execution_count": 24,
   "id": "01266c46",
   "metadata": {},
   "outputs": [],
   "source": [
    "arr2D = np.zeros((3,4),np.int32)#By default it is float"
   ]
  },
  {
   "cell_type": "code",
   "execution_count": 22,
   "id": "c8487551",
   "metadata": {},
   "outputs": [
    {
     "name": "stdout",
     "output_type": "stream",
     "text": [
      "[[0. 0. 0. 0.]\n",
      " [0. 0. 0. 0.]\n",
      " [0. 0. 0. 0.]]\n"
     ]
    }
   ],
   "source": [
    "print(arr2D)"
   ]
  },
  {
   "cell_type": "code",
   "execution_count": 25,
   "id": "33e24f6a",
   "metadata": {},
   "outputs": [
    {
     "data": {
      "text/plain": [
       "dtype('int32')"
      ]
     },
     "execution_count": 25,
     "metadata": {},
     "output_type": "execute_result"
    }
   ],
   "source": [
    "arr2D.dtype"
   ]
  },
  {
   "cell_type": "code",
   "execution_count": null,
   "id": "c58124d4",
   "metadata": {},
   "outputs": [],
   "source": []
  }
 ],
 "metadata": {
  "kernelspec": {
   "display_name": "Python 3 (ipykernel)",
   "language": "python",
   "name": "python3"
  },
  "language_info": {
   "codemirror_mode": {
    "name": "ipython",
    "version": 3
   },
   "file_extension": ".py",
   "mimetype": "text/x-python",
   "name": "python",
   "nbconvert_exporter": "python",
   "pygments_lexer": "ipython3",
   "version": "3.8.10 (default, Nov 14 2022, 12:59:47) \n[GCC 9.4.0]"
  },
  "vscode": {
   "interpreter": {
    "hash": "916dbcbb3f70747c44a77c7bcd40155683ae19c65e1c03b4aa3499c5328201f1"
   }
  }
 },
 "nbformat": 4,
 "nbformat_minor": 5
}
